{
 "cells": [
  {
   "cell_type": "markdown",
   "id": "ebda082e",
   "metadata": {},
   "source": [
    "### Scenario 1: Grocery Shopping List"
   ]
  },
  {
   "cell_type": "code",
   "execution_count": null,
   "id": "bde5f328",
   "metadata": {},
   "outputs": [
    {
     "name": "stdout",
     "output_type": "stream",
     "text": [
      "\n",
      "\n",
      "What would you like to do: \n",
      "1. Add_item: \n",
      "2. Remove_item: \n",
      "3. Display_list: \n",
      "4. Quite.\n",
      "Enter your Choice: 3\n",
      "\n",
      "\n",
      "What would you like to do: \n",
      "1. Add_item: \n",
      "2. Remove_item: \n",
      "3. Display_list: \n",
      "4. Quite.\n"
     ]
    }
   ],
   "source": [
    "Grocery_list = []\n",
    "\n",
    "def add_item (item):\n",
    "    Grocery_list.append(item)\n",
    "\n",
    "def remove_item (item):\n",
    "    Grocery_list.remove(item)\n",
    "    \n",
    "def display_list():\n",
    "    for item in Grocery_list:\n",
    "        print(item)\n",
    "            \n",
    "    \n",
    "def main():\n",
    "    while True:\n",
    "        print(\"\\n\\nWhat would you like to do: \")\n",
    "        print(\"1. Add_item: \")\n",
    "        print(\"2. Remove_item: \")\n",
    "        print(\"3. Display_list: \")\n",
    "        print(\"4. Quite.\")\n",
    "        \n",
    "        choice = input(\"Enter your Choice: \")\n",
    "        \n",
    "        if choice == \"1\":\n",
    "            item = input(\"Add item of your choice: \")\n",
    "            add_item(item)\n",
    "        \n",
    "        elif choice == \"2\":\n",
    "            item = input(\"Remove item of your choice: \")\n",
    "            remove_item(item)\n",
    "        \n",
    "        elif choice == \"3\":\n",
    "            display_list()\n",
    "        \n",
    "        elif choice == \"4\":\n",
    "            break\n",
    "            \n",
    "        else: \n",
    "                print(\"invalid choice: \")\n",
    "                \n",
    "if __name__ == \"__main__\":\n",
    "  main()  "
   ]
  },
  {
   "cell_type": "markdown",
   "id": "3d3f8bcd",
   "metadata": {},
   "source": [
    "### Scenario 2: Student Grades"
   ]
  },
  {
   "cell_type": "code",
   "execution_count": 12,
   "id": "5a5cd83c",
   "metadata": {},
   "outputs": [
    {
     "name": "stdout",
     "output_type": "stream",
     "text": [
      "70.0\n"
     ]
    }
   ],
   "source": [
    "students = {\"ahmed\": 90, \"Ali\": 80, \"uzair\":70,\"usama\":60,\"Reham\":50}\n",
    "total_grades = sum(students.values())\n",
    "num_of_student = len(students)\n",
    "average_grade = total_grades/num_of_student\n",
    "print(average_grade)"
   ]
  },
  {
   "cell_type": "markdown",
   "id": "942b91f1",
   "metadata": {},
   "source": [
    "### Scenario 3: Word Frequency Counter"
   ]
  },
  {
   "cell_type": "code",
   "execution_count": 16,
   "id": "cd15c654",
   "metadata": {},
   "outputs": [
    {
     "name": "stdout",
     "output_type": "stream",
     "text": [
      "{'apple': 3, 'banana': 2, 'orange': 1, 'grape': 1}\n"
     ]
    }
   ],
   "source": [
    "word_list = [\"apple\", \"banana\", \"apple\", \"orange\", \"banana\", \"grape\", \"apple\"]\n",
    "count_frequency = {}\n",
    "\n",
    "for word in word_list:\n",
    "    if word not in count_frequency:\n",
    "        count_frequency [word]= 0\n",
    "    count_frequency [word] +=1\n",
    "        \n",
    "print (count_frequency)"
   ]
  },
  {
   "cell_type": "markdown",
   "id": "0f9321a6",
   "metadata": {},
   "source": [
    "### Scenario 3: Password Strength Checker"
   ]
  },
  {
   "cell_type": "code",
   "execution_count": 1,
   "id": "3769bd8d",
   "metadata": {},
   "outputs": [
    {
     "name": "stdout",
     "output_type": "stream",
     "text": [
      "Enter your password1234\n",
      "Password is weak\n"
     ]
    }
   ],
   "source": [
    "def check_password(password):\n",
    "    \n",
    "    if len(password)<8:\n",
    "        return False\n",
    "    \n",
    "    if not any (char.isdigit()for char in password):\n",
    "        return False\n",
    "    \n",
    "    if not any (char.isalpha()for char in password):\n",
    "        return False\n",
    "    \n",
    "    return True\n",
    "\n",
    "def main():\n",
    "    \n",
    "    password = input(\"Enter your password\")\n",
    "    if check_password (password):\n",
    "        print (\"Password is strong\")\n",
    "    else:\n",
    "        print(\"Password is weak\")\n",
    "        \n",
    "        \n",
    "if __name__ == \"__main__\":\n",
    "    main()\n"
   ]
  },
  {
   "cell_type": "markdown",
   "id": "09c91dd4",
   "metadata": {},
   "source": [
    "### Scenario 04: Voting System (Annual Employee Recognition Awards)"
   ]
  },
  {
   "cell_type": "code",
   "execution_count": 12,
   "id": "8a195ab1",
   "metadata": {},
   "outputs": [
    {
     "name": "stdout",
     "output_type": "stream",
     "text": [
      "Enter You vote. Ahmed\n",
      "Do you want to vote again. (y/n): n\n",
      "The winner is Ahmed!\n"
     ]
    }
   ],
   "source": [
    "candidates = [\"Ahmed\", \"Ali\", \"Uzair\"]\n",
    "votes = {}\n",
    "\n",
    "for candidate in candidates:\n",
    "    votes[candidate]=0\n",
    "\n",
    "while True:\n",
    "    vote = input(\"Enter You vote. \")\n",
    "    if vote in candidates:\n",
    "        votes[vote]+=1\n",
    "    else:\n",
    "        print(\"Invalid vote. \")\n",
    "        \n",
    "    if input(\"Do you want to vote again. (y/n): \") ==\"n\":\n",
    "        break\n",
    "        \n",
    "    for candidate,vote in votes.items():\n",
    "        print(f\"{candidate}:{vote} votes\")\n",
    "        \n",
    "winner = max(votes, key=votes.get)\n",
    "print(f\"The winner is {winner}!\")\n",
    "    "
   ]
  },
  {
   "cell_type": "code",
   "execution_count": null,
   "id": "66127640",
   "metadata": {},
   "outputs": [],
   "source": []
  },
  {
   "cell_type": "code",
   "execution_count": null,
   "id": "90f61a60",
   "metadata": {},
   "outputs": [],
   "source": []
  }
 ],
 "metadata": {
  "kernelspec": {
   "display_name": "Python 3 (ipykernel)",
   "language": "python",
   "name": "python3"
  },
  "language_info": {
   "codemirror_mode": {
    "name": "ipython",
    "version": 3
   },
   "file_extension": ".py",
   "mimetype": "text/x-python",
   "name": "python",
   "nbconvert_exporter": "python",
   "pygments_lexer": "ipython3",
   "version": "3.11.5"
  }
 },
 "nbformat": 4,
 "nbformat_minor": 5
}
